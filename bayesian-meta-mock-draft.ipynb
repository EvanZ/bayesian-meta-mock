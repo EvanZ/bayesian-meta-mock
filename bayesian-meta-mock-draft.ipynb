{
 "cells": [
  {
   "cell_type": "markdown",
   "metadata": {},
   "source": [
    "# Bayesian Inference of Mock NBA Draft Order"
   ]
  },
  {
   "cell_type": "markdown",
   "metadata": {},
   "source": [
    "Many of us who follow the NBA Draft closely have a keen desire to know the precise ordering of the Draft, eg where each player will be taken (\"where\" having a dual meaning here, both the team and draft slot). To this end, it is common behavior to ingest the information we get from the dozen or more \"prominent\" mock drafts available leading up to the Draft. There are different ways analysts and media try to aggregate this information into what I like to call \"Meta Mocks\". Typically this just involves very simple operations like averaging ranks or looking at the minimum and maximum draft position. Chris Feller just the other day shared a very cool approach using survival analysis. I haven't dug into it yet, but it will be interesting to compare to what I'm doing here."
   ]
  },
  {
   "cell_type": "markdown",
   "metadata": {},
   "source": [
    "\n",
    "<div class=\"center\">\n",
    "\n",
    "<blockquote class=\"twitter-tweet\"><p lang=\"en\" dir=\"ltr\">In preparation for the NBA Draft, I&#39;ve compiled 20 mock drafts from various draft analysts to create a survival analysis which calculates the probability of a prospect being available at each draft slot (1/n)<br><br>Dashboard Link: <a href=\"https://t.co/f6bdHv5gtu\">https://t.co/f6bdHv5gtu</a> <a href=\"https://t.co/yXrxJqrymD\">pic.twitter.com/yXrxJqrymD</a></p>&mdash; Chris Feller (@chrisfellertwtr) <a href=\"https://twitter.com/chrisfellertwtr/status/1318235761750192128?ref_src=twsrc%5Etfw\">October 19, 2020</a></blockquote> <script async src=\"https://platform.twitter.com/widgets.js\" charset=\"utf-8\"></script>\n",
    "</div>"
   ]
  },
  {
   "cell_type": "markdown",
   "metadata": {},
   "source": [
    "What I wanted to do that is a bit different from using survival analysis, but can yield similar insights as I'll show later, is to create a generative meta-model for mock drafts. In theory this enables one to infer some measure of \"value\" from rank orderings (no mock draft that I could find assigns numerical ratings to players) and then generate random mock draft orders from the posterior distribution. In other words, much like Nate Silver runs simulations to predict who will win the election, we can create a simulation for mock drafts and do all kinds of neat things therein. Let me show you how!"
   ]
  },
  {
   "cell_type": "markdown",
   "metadata": {},
   "source": [
    "The first thing we need is a probability distribution that makes sense for rank data. Say hello to the [Plackett-Luce Distribution](https://cran.rstudio.com/web/packages/PlackettLuce/vignettes/Overview.html). The basic idea is that if you have some set $S$ of $I$ items each with some \"worth\" $w_i$ you can generate a probability distribution on the rank of any arbitrary permutation those items in some vector. I won't show you the equations (see the reference), but I can show you a very simple simulation to get the idea across quickly. First we need to import some packages and define the PL Distribution which I found someone had implemented on github [here](https://github.com/agadetsky/pytorch-pl-variance-reduction). The work herein is all done using the [Pyro probabilistic programming language](http://pyro.ai/) that is made open-source by Uber and built upon [Facebook's PyTorch](https://pytorch.org/) deep learning library."
   ]
  },
  {
   "cell_type": "code",
   "execution_count": 4,
   "metadata": {},
   "outputs": [],
   "source": [
    "import random\n",
    "\n",
    "import pandas as pd\n",
    "import numpy as np\n",
    "\n",
    "import torch\n",
    "from pyro.infer.autoguide import AutoDiagonalNormal \n",
    "from pyro.infer import SVI, Trace_ELBO, Predictive\n",
    "from pyro.distributions.distribution import Distribution\n",
    "from torch.distributions import constraints\n",
    "from pyro.distributions.torch_distribution import TorchDistributionMixin, TorchDistribution\n",
    "import pyro.distributions as dist\n",
    "import pyro\n",
    "import seaborn as sns"
   ]
  },
  {
   "cell_type": "code",
   "execution_count": 6,
   "metadata": {},
   "outputs": [],
   "source": [
    "# some utilities defined in https://github.com/agadetsky/pytorch-pl-variance-reduction/blob/master/utils.py\n",
    "\n",
    "def logcumsumexp(x, dim):\n",
    "    # slow implementation, but ok for now\n",
    "    if (dim != -1) or (dim != x.ndimension() - 1):\n",
    "        x = x.transpose(dim, -1)\n",
    "\n",
    "    out = []\n",
    "    for i in range(1, x.size(-1) + 1):\n",
    "        out.append(torch.logsumexp(x[..., :i], dim=-1, keepdim=True))\n",
    "    out = torch.cat(out, dim=-1)\n",
    "\n",
    "    if (dim != -1) or (dim != x.ndimension() - 1):\n",
    "        out = out.transpose(-1, dim)\n",
    "    return out\n",
    "\n",
    "\n",
    "def reverse_logcumsumexp(x, dim):\n",
    "    return torch.flip(logcumsumexp(torch.flip(x, dims=(dim, )), dim), dims=(dim, ))\n",
    "\n",
    "def smart_perm(x, permutation):\n",
    "    assert x.size() == permutation.size()\n",
    "    if x.ndimension() == 1:\n",
    "        ret = x[permutation]\n",
    "    elif x.ndimension() == 2:\n",
    "        d1, d2 = x.size()\n",
    "        ret = x[\n",
    "            torch.arange(d1).unsqueeze(1).repeat((1, d2)).flatten(),\n",
    "            permutation.flatten()\n",
    "        ].view(d1, d2)\n",
    "    elif x.ndimension() == 3:\n",
    "        d1, d2, d3 = x.size()\n",
    "        ret = x[\n",
    "            torch.arange(d1).unsqueeze(1).repeat((1, d2 * d3)).flatten(),\n",
    "            torch.arange(d2).unsqueeze(1).repeat((1, d3)).flatten().unsqueeze(0).repeat((1, d1)).flatten(),\n",
    "            permutation.flatten()\n",
    "        ].view(d1, d2, d3)\n",
    "    else:\n",
    "        ValueError(\"Only 3 dimensions maximum\")\n",
    "    return ret"
   ]
  },
  {
   "cell_type": "code",
   "execution_count": 7,
   "metadata": {},
   "outputs": [],
   "source": [
    "class PlackettLuce(Distribution):\n",
    "    \"\"\"\n",
    "        Plackett-Luce distribution\n",
    "    \"\"\"\n",
    "    arg_constraints = {\"logits\": constraints.real}\n",
    "\n",
    "    def __init__(self, logits):\n",
    "        # last dimension is for scores of plackett luce\n",
    "        super(PlackettLuce, self).__init__()\n",
    "        self.logits = logits\n",
    "        self.size = self.logits.size()\n",
    "\n",
    "    def sample(self, sample_shape=torch.Size()):\n",
    "        # sample permutations using Gumbel-max trick to avoid cycles\n",
    "        with torch.no_grad():\n",
    "            logits = self.logits.unsqueeze(0).expand(sample_shape, *self.size)\n",
    "            u = torch.distributions.utils.clamp_probs(torch.rand_like(logits))\n",
    "            z = self.logits - torch.log(-torch.log(u))\n",
    "            samples = torch.sort(z, descending=True, dim=-1)[1]\n",
    "        return samples\n",
    "\n",
    "    def log_prob(self, samples):\n",
    "        # samples shape is: num_samples x self.size\n",
    "        # samples is permutations not permutation matrices\n",
    "        if samples.ndimension() == self.logits.ndimension():  # then we already expanded logits\n",
    "            logits = smart_perm(self.logits, samples)\n",
    "        elif samples.ndimension() > self.logits.ndimension():  # then we need to expand it here\n",
    "            logits = self.logits.unsqueeze(0).expand(*samples.size())\n",
    "            logits = smart_perm(logits, samples)\n",
    "        else:\n",
    "            raise ValueError(\"Something wrong with dimensions\")\n",
    "        logp = (logits - reverse_logcumsumexp(logits, dim=-1)).sum(-1)\n",
    "        return logp"
   ]
  },
  {
   "cell_type": "markdown",
   "metadata": {},
   "source": [
    "Ok, so let's do a little simulation. It's very simple. Imagine that we have 5 race car drivers. We are going to generate some \"worth\" vector using an Exponential distribution. We see that Driver 3 has by the far the highest rating and Driver 0 the lowest. Given those parameters we then generate random samples of \"races\" using the PL distribution. We do this 10 times."
   ]
  },
  {
   "cell_type": "code",
   "execution_count": 16,
   "metadata": {},
   "outputs": [
    {
     "name": "stdout",
     "output_type": "stream",
     "text": [
      "driver 3: 31.7\n",
      "driver 4: 23.0\n",
      "driver 2: 2.02\n",
      "driver 1: 1.02\n",
      "driver 0: 0.294\n",
      "[[3 4 1 2 0]\n",
      " [3 4 1 2 0]\n",
      " [3 4 2 0 1]\n",
      " [3 4 2 1 0]\n",
      " [3 4 2 1 0]\n",
      " [3 4 1 0 2]\n",
      " [3 4 2 1 0]\n",
      " [3 4 1 2 0]\n",
      " [3 4 2 1 0]\n",
      " [3 4 0 2 1]]\n"
     ]
    }
   ],
   "source": [
    "n_drivers = 5\n",
    "torch.manual_seed(39)\n",
    "theta = dist.Exponential(0.1).sample((n_drivers,))\n",
    "ranks = list(zip(range(n_drivers),theta.numpy()))\n",
    "[print(f'driver {i}: {j:0.3}') for i, j in sorted(ranks,key=lambda x: -x[1])]\n",
    "pl = PlackettLuce(theta)\n",
    "data = pl.sample(10)\n",
    "print(data.numpy())"
   ]
  },
  {
   "cell_type": "markdown",
   "metadata": {},
   "source": [
    "You can see that drivers 3 and 4 come in 1 and 2 in all 10 of our simulated races."
   ]
  },
  {
   "cell_type": "markdown",
   "metadata": {},
   "source": [
    "Now let's do the same simulation but increase the Exponential rate parameter such that the drivers are more \"even\"."
   ]
  },
  {
   "cell_type": "code",
   "execution_count": 17,
   "metadata": {},
   "outputs": [
    {
     "name": "stdout",
     "output_type": "stream",
     "text": [
      "driver 3: 3.17\n",
      "driver 4: 2.3\n",
      "driver 2: 0.202\n",
      "driver 1: 0.102\n",
      "driver 0: 0.0294\n",
      "[[1 4 3 2 0]\n",
      " [3 1 4 2 0]\n",
      " [3 4 2 0 1]\n",
      " [4 3 2 0 1]\n",
      " [4 3 2 1 0]\n",
      " [3 4 0 1 2]\n",
      " [3 4 2 0 1]\n",
      " [3 4 1 2 0]\n",
      " [3 4 2 0 1]\n",
      " [4 0 3 2 1]]\n"
     ]
    }
   ],
   "source": [
    "n_drivers = 5\n",
    "torch.manual_seed(39)\n",
    "theta = dist.Exponential(1.0).sample((n_drivers,))\n",
    "ranks = list(zip(range(n_drivers),theta.numpy()))\n",
    "[print(f'driver {i}: {j:0.3}') for i, j in sorted(ranks,key=lambda x: -x[1])]\n",
    "pl = PlackettLuce(theta)\n",
    "data = pl.sample(10)\n",
    "print(data.numpy())"
   ]
  },
  {
   "cell_type": "markdown",
   "metadata": {},
   "source": [
    "You can see that now driver 4 wins some races and even driver 1 gets to stand at the podium. Sweet! Hopefully this is starting to make sense to you. We're basically ready to go. We just need to read in some data, create the model, and do some inference. Let's do it!"
   ]
  },
  {
   "cell_type": "markdown",
   "metadata": {},
   "source": [
    "I've collected data from 17 publicly available mock drafts. Not all drafts mock both rounds though. That is ok, since there is still useful information in even one round. I'll explain how I deal with that shortly, but let's read in the data first."
   ]
  },
  {
   "cell_type": "code",
   "execution_count": 18,
   "metadata": {},
   "outputs": [
    {
     "data": {
      "text/html": [
       "<div>\n",
       "<style scoped>\n",
       "    .dataframe tbody tr th:only-of-type {\n",
       "        vertical-align: middle;\n",
       "    }\n",
       "\n",
       "    .dataframe tbody tr th {\n",
       "        vertical-align: top;\n",
       "    }\n",
       "\n",
       "    .dataframe thead th {\n",
       "        text-align: right;\n",
       "    }\n",
       "</style>\n",
       "<table border=\"1\" class=\"dataframe\">\n",
       "  <thead>\n",
       "    <tr style=\"text-align: right;\">\n",
       "      <th></th>\n",
       "      <th>Rank</th>\n",
       "      <th>Athletic-Vecenie</th>\n",
       "      <th>Tankathon</th>\n",
       "      <th>Rookie-Wire-Kalbrosky</th>\n",
       "      <th>Ringer-OConnor</th>\n",
       "      <th>NBCSportsNorthwest-Mickanen</th>\n",
       "      <th>Adam-Spinella</th>\n",
       "      <th>ESPN-Givony</th>\n",
       "      <th>CBS-Boone</th>\n",
       "      <th>CBS-Parrish</th>\n",
       "      <th>SI-Woo</th>\n",
       "      <th>NBADraftNet</th>\n",
       "      <th>NBCSports-Forsberg-Snyder</th>\n",
       "      <th>Yahoo-Peek</th>\n",
       "      <th>BR-Wasserman</th>\n",
       "      <th>NetScouts</th>\n",
       "      <th>SBNation-ODonnell</th>\n",
       "      <th>BabcockHoops</th>\n",
       "    </tr>\n",
       "  </thead>\n",
       "  <tbody>\n",
       "    <tr>\n",
       "      <th>0</th>\n",
       "      <td>1</td>\n",
       "      <td>LaMelo Ball</td>\n",
       "      <td>Anthony Edwards</td>\n",
       "      <td>LaMelo Ball</td>\n",
       "      <td>James Wiseman</td>\n",
       "      <td>LaMelo Ball</td>\n",
       "      <td>LaMelo Ball</td>\n",
       "      <td>LaMelo Ball</td>\n",
       "      <td>Anthony Edwards</td>\n",
       "      <td>LaMelo Ball</td>\n",
       "      <td>Anthony Edwards</td>\n",
       "      <td>Anthony Edwards</td>\n",
       "      <td>Anthony Edwards</td>\n",
       "      <td>LaMelo Ball</td>\n",
       "      <td>Anthony Edwards</td>\n",
       "      <td>LaMelo Ball</td>\n",
       "      <td>Anthony Edwards</td>\n",
       "      <td>Anthony Edwards</td>\n",
       "    </tr>\n",
       "    <tr>\n",
       "      <th>1</th>\n",
       "      <td>2</td>\n",
       "      <td>James Wiseman</td>\n",
       "      <td>Deni Avdija</td>\n",
       "      <td>Tyrese Haliburton</td>\n",
       "      <td>Anthony Edwards</td>\n",
       "      <td>James Wiseman</td>\n",
       "      <td>Anthony Edwards</td>\n",
       "      <td>Anthony Edwards</td>\n",
       "      <td>LaMelo Ball</td>\n",
       "      <td>Anthony Edwards</td>\n",
       "      <td>James Wiseman</td>\n",
       "      <td>Deni Avdija</td>\n",
       "      <td>Killian Hayes</td>\n",
       "      <td>James Wiseman</td>\n",
       "      <td>LaMelo Ball</td>\n",
       "      <td>James Wiseman</td>\n",
       "      <td>LaMelo Ball</td>\n",
       "      <td>James Wiseman</td>\n",
       "    </tr>\n",
       "    <tr>\n",
       "      <th>2</th>\n",
       "      <td>3</td>\n",
       "      <td>Anthony Edwards</td>\n",
       "      <td>James Wiseman</td>\n",
       "      <td>Anthony Edwards</td>\n",
       "      <td>Deni Avdija</td>\n",
       "      <td>Anthony Edwards</td>\n",
       "      <td>James Wiseman</td>\n",
       "      <td>James Wiseman</td>\n",
       "      <td>James Wiseman</td>\n",
       "      <td>James Wiseman</td>\n",
       "      <td>LaMelo Ball</td>\n",
       "      <td>LaMelo Ball</td>\n",
       "      <td>LaMelo Ball</td>\n",
       "      <td>Anthony Edwards</td>\n",
       "      <td>James Wiseman</td>\n",
       "      <td>Anthony Edwards</td>\n",
       "      <td>Onyeka Okongwu</td>\n",
       "      <td>LaMelo Ball</td>\n",
       "    </tr>\n",
       "    <tr>\n",
       "      <th>3</th>\n",
       "      <td>4</td>\n",
       "      <td>Deni Avdija</td>\n",
       "      <td>LaMelo Ball</td>\n",
       "      <td>Obi Toppin</td>\n",
       "      <td>LaMelo Ball</td>\n",
       "      <td>Deni Avdija</td>\n",
       "      <td>Deni Avdija</td>\n",
       "      <td>Obi Toppin</td>\n",
       "      <td>Deni Avdija</td>\n",
       "      <td>Obi Toppin</td>\n",
       "      <td>Deni Avdija</td>\n",
       "      <td>Killian Hayes</td>\n",
       "      <td>Deni Avdija</td>\n",
       "      <td>Tyrese Haliburton</td>\n",
       "      <td>Deni Avdija</td>\n",
       "      <td>Deni Avdija</td>\n",
       "      <td>Killian Hayes</td>\n",
       "      <td>Obi Toppin</td>\n",
       "    </tr>\n",
       "    <tr>\n",
       "      <th>4</th>\n",
       "      <td>5</td>\n",
       "      <td>Obi Toppin</td>\n",
       "      <td>Obi Toppin</td>\n",
       "      <td>Deni Avdija</td>\n",
       "      <td>Obi Toppin</td>\n",
       "      <td>Obi Toppin</td>\n",
       "      <td>Obi Toppin</td>\n",
       "      <td>Deni Avdija</td>\n",
       "      <td>Obi Toppin</td>\n",
       "      <td>Deni Avdija</td>\n",
       "      <td>Obi Toppin</td>\n",
       "      <td>Obi Toppin</td>\n",
       "      <td>Obi Toppin</td>\n",
       "      <td>Deni Avdija</td>\n",
       "      <td>Obi Toppin</td>\n",
       "      <td>Obi Toppin</td>\n",
       "      <td>Obi Toppin</td>\n",
       "      <td>Deni Avdija</td>\n",
       "    </tr>\n",
       "  </tbody>\n",
       "</table>\n",
       "</div>"
      ],
      "text/plain": [
       "   Rank Athletic-Vecenie        Tankathon Rookie-Wire-Kalbrosky  \\\n",
       "0     1      LaMelo Ball  Anthony Edwards           LaMelo Ball   \n",
       "1     2    James Wiseman      Deni Avdija     Tyrese Haliburton   \n",
       "2     3  Anthony Edwards    James Wiseman       Anthony Edwards   \n",
       "3     4      Deni Avdija      LaMelo Ball            Obi Toppin   \n",
       "4     5       Obi Toppin       Obi Toppin           Deni Avdija   \n",
       "\n",
       "    Ringer-OConnor NBCSportsNorthwest-Mickanen    Adam-Spinella  \\\n",
       "0    James Wiseman                 LaMelo Ball      LaMelo Ball   \n",
       "1  Anthony Edwards               James Wiseman  Anthony Edwards   \n",
       "2      Deni Avdija             Anthony Edwards    James Wiseman   \n",
       "3      LaMelo Ball                 Deni Avdija      Deni Avdija   \n",
       "4       Obi Toppin                  Obi Toppin       Obi Toppin   \n",
       "\n",
       "       ESPN-Givony        CBS-Boone      CBS-Parrish           SI-Woo  \\\n",
       "0      LaMelo Ball  Anthony Edwards      LaMelo Ball  Anthony Edwards   \n",
       "1  Anthony Edwards      LaMelo Ball  Anthony Edwards    James Wiseman   \n",
       "2    James Wiseman    James Wiseman    James Wiseman      LaMelo Ball   \n",
       "3       Obi Toppin      Deni Avdija       Obi Toppin      Deni Avdija   \n",
       "4      Deni Avdija       Obi Toppin      Deni Avdija       Obi Toppin   \n",
       "\n",
       "       NBADraftNet NBCSports-Forsberg-Snyder         Yahoo-Peek  \\\n",
       "0  Anthony Edwards           Anthony Edwards        LaMelo Ball   \n",
       "1      Deni Avdija             Killian Hayes      James Wiseman   \n",
       "2      LaMelo Ball               LaMelo Ball    Anthony Edwards   \n",
       "3    Killian Hayes               Deni Avdija  Tyrese Haliburton   \n",
       "4       Obi Toppin                Obi Toppin        Deni Avdija   \n",
       "\n",
       "      BR-Wasserman        NetScouts SBNation-ODonnell     BabcockHoops  \n",
       "0  Anthony Edwards      LaMelo Ball   Anthony Edwards  Anthony Edwards  \n",
       "1      LaMelo Ball    James Wiseman       LaMelo Ball    James Wiseman  \n",
       "2    James Wiseman  Anthony Edwards    Onyeka Okongwu      LaMelo Ball  \n",
       "3      Deni Avdija      Deni Avdija     Killian Hayes       Obi Toppin  \n",
       "4       Obi Toppin       Obi Toppin        Obi Toppin      Deni Avdija  "
      ]
     },
     "execution_count": 18,
     "metadata": {},
     "output_type": "execute_result"
    }
   ],
   "source": [
    "df = pd.read_csv('data/mock-drafts.csv')\n",
    "df.head()"
   ]
  },
  {
   "cell_type": "code",
   "execution_count": 19,
   "metadata": {},
   "outputs": [
    {
     "name": "stdout",
     "output_type": "stream",
     "text": [
      "{1: 'Kira Lewis', 2: 'Udoka Azubuike', 3: 'Tyrell Terry', 4: 'Saben Lee', 5: 'Aleksej Pokusevski', 6: 'Cassius Winston', 7: 'Austin Wiley', 8: 'Devon Dotson', 9: 'Naji Marshall', 10: 'Nick Richards', 11: 'Yam Madar', 12: 'Zeke Nnaji', 13: 'Kaleb Wesson', 14: 'Mason Jones', 15: 'Patrick Williams', 16: 'James Wiseman', 17: 'Tyrese Haliburton', 18: 'Theo Maledon', 19: 'LaMelo Ball', 20: 'Tyrique Jones', 21: 'Ty-Shon Alexander', 22: 'Vernon Carey', 23: 'Reggie Perry', 24: 'Xavier Tillman', 25: 'Filip Petrusev', 26: 'Leandro Bolmaro', 27: 'Josh Green', 28: 'Abdoulaye Ndoye', 29: 'Killian Hayes', 30: 'Tyler Bey', 31: 'Isaiah Stewart', 32: 'Lamine Diane', 33: 'Desmond Bane', 34: 'Lamar Stevens', 35: 'Aaron Nesmith', 36: 'Tyrese Maxey', 37: 'Anthony Edwards', 38: 'Yoeli Childs', 39: 'Omer Yurtseven', 40: 'Borisa Simanic', 41: 'Justinian Jessup', 42: 'Malachi Flynn', 43: 'Jahmius Ramsey', 44: 'Obi Toppin', 45: 'Markus Howard', 46: 'Tre Jones', 47: 'Robert Woodard', 48: 'Nate Hinton', 49: 'Isaac Okoro', 50: 'Cole Anthony', 51: 'Jaden McDaniels', 52: 'Jordan Nwora', 53: 'Deni Avdija', 54: 'Jalen Harris', 55: 'Rokas Jokubaitis', 56: 'Paul Reed', 57: 'Jay Scrubb', 58: 'Ashton Hagans', 59: 'Jalen Smith', 60: 'Kristian Doolittle', 61: 'Henri Drell', 62: 'CJ Elleby', 63: 'Isaiah Joe', 64: 'Paul Eboua', 65: 'Killian Tillie', 66: 'Kenyon Martin', 67: 'RJ Hampton', 68: 'Immanuel Quickley', 69: 'Sam Merrill', 70: 'Onyeka Okongwu', 71: 'Grant Riller', 72: 'Payton Pritchard', 73: 'Skylar Mays', 74: 'Karim Mane', 75: 'Giorgos Kalaitzakis', 76: 'Mamadi Diakite', 77: 'Nico Mannion', 78: 'Saddiq Bey', 79: 'Marko Simonovic', 80: 'Paul Ebouta', 81: 'Precious Achiuwa', 82: 'Cassius Stanley', 83: 'Daniel Oturu', 84: 'Elijah Hughes', 85: 'Josh Hall', 86: 'Devin Vassell'}\n"
     ]
    }
   ],
   "source": [
    "cols = df.columns[1:]\n",
    "players_set = set()\n",
    "for col in cols:\n",
    "    for player in df[col].values:\n",
    "        players_set.add(player)\n",
    "players = {player:idx for idx,player in enumerate(players_set) if type(player) is str}\n",
    "player_lut = {idx:player for player,idx in players.items() if type(player) is str}\n",
    "print(player_lut)"
   ]
  },
  {
   "cell_type": "markdown",
   "metadata": {},
   "source": [
    "As you can see there are 86 players total in these mock drafts. Now we're going to put the mocks in a data format that Pyro can understand, a Torch tensor containing 17 rows. Each row will have all 86 players in some permutation. Now I can explain how I \"pad\" each mock such that whether a mock had 30 or 60 players, each will be padded to contain all 86. I assume something very simple: if a mock doesn't have a player then every other player can just be randomly shuffled to fill out the full mock to position 86. This is about the simplest way I could do it. A more advanced way would be to start with a randomization like this, but then subsequently refine the \"counterfactual\" padding with a random order that is based on the inferred ratings from the model. One could keep iterating like this until some equilibrium is reached (basically until there is no more improvement). "
   ]
  },
  {
   "cell_type": "code",
   "execution_count": 20,
   "metadata": {},
   "outputs": [
    {
     "name": "stdout",
     "output_type": "stream",
     "text": [
      "tensor([[18, 15, 36,  ..., 44, 73,  6],\n",
      "        [36, 52, 15,  ...,  8, 53, 78],\n",
      "        [18, 16, 36,  ..., 75, 61, 63],\n",
      "        ...,\n",
      "        [18, 15, 36,  ..., 31,  3,  6],\n",
      "        [36, 18, 69,  ..., 72, 51, 63],\n",
      "        [36, 15, 18,  ..., 37, 44, 19]])\n"
     ]
    }
   ],
   "source": [
    "import random\n",
    "n_players = len(player_lut)\n",
    "list_data = []\n",
    "for col in cols:\n",
    "    mock = df[col]\n",
    "    ranks = []\n",
    "    players_cp = players.copy()\n",
    "    for i in range(1,n_players+1):\n",
    "        try:\n",
    "            player = mock[i-1]\n",
    "            players_cp.pop(player)\n",
    "            ranks.append(players[player])\n",
    "        except KeyError: \n",
    "            random_player = random.choice(list(players_cp.keys()))\n",
    "            if players_cp.pop(random_player):\n",
    "                ranks.append(players[random_player])\n",
    "    list_data.append(ranks)\n",
    "data = torch.tensor(list_data)-1\n",
    "print(data)"
   ]
  },
  {
   "cell_type": "markdown",
   "metadata": {},
   "source": [
    "Let's look at one of these rows:"
   ]
  },
  {
   "cell_type": "code",
   "execution_count": 36,
   "metadata": {},
   "outputs": [
    {
     "data": {
      "text/plain": [
       "['LaMelo Ball',\n",
       " 'James Wiseman',\n",
       " 'Anthony Edwards',\n",
       " 'Deni Avdija',\n",
       " 'Obi Toppin',\n",
       " 'Tyrese Haliburton',\n",
       " 'Isaac Okoro',\n",
       " 'Devin Vassell',\n",
       " 'Onyeka Okongwu',\n",
       " 'Killian Hayes']"
      ]
     },
     "execution_count": 36,
     "metadata": {},
     "output_type": "execute_result"
    }
   ],
   "source": [
    "[player_lut[i+1] for i in data.numpy()[0]][0:10]"
   ]
  },
  {
   "cell_type": "markdown",
   "metadata": {},
   "source": [
    "Ok, now the exciting part. Let's define the model:"
   ]
  },
  {
   "cell_type": "code",
   "execution_count": 37,
   "metadata": {},
   "outputs": [],
   "source": [
    "n_players = 86\n",
    "\n",
    "def model(data):\n",
    "    sigma = pyro.sample(\"sigma\", dist.Uniform(0,1))\n",
    "    theta = pyro.sample(\"theta\", dist.Cauchy(torch.zeros(n_players,),sigma*torch.ones(n_players,)))\n",
    "    with pyro.plate(\"data\", data.shape[-2]):\n",
    "        pyro.sample(\"obs\", PlackettLuce(theta), obs=data)"
   ]
  },
  {
   "cell_type": "markdown",
   "metadata": {},
   "source": [
    "That's all it is really. I'm using a Cauchy distribution because if you think about the distribution of NBA talent it seems \"fat-tailed\". In other words, we want our model to be able to handle the case where there is a \"superstar\" or consensus top pick(s). If we make our distribution too flat, it would be more like a horse race where any horse has a shot at finishing first (more or less). Now we do the inference step, setting up a guide and optimizer according to the Pyro parlance for doing stochastic variational inference (in the future I plan to investigate the more accurate MCMC sampling approach, but this should fine for now). "
   ]
  },
  {
   "cell_type": "code",
   "execution_count": 39,
   "metadata": {},
   "outputs": [
    {
     "name": "stdout",
     "output_type": "stream",
     "text": [
      "[iteration 0001] loss: 312.6384\n",
      "[iteration 0101] loss: 262.8432\n",
      "[iteration 0201] loss: 254.2299\n",
      "[iteration 0301] loss: 250.3278\n",
      "[iteration 0401] loss: 249.1499\n",
      "[iteration 0501] loss: 248.0529\n",
      "[iteration 0601] loss: 247.9790\n",
      "[iteration 0701] loss: 247.4841\n",
      "[iteration 0801] loss: 247.2266\n",
      "[iteration 0901] loss: 246.5586\n",
      "[iteration 1001] loss: 246.7447\n",
      "[iteration 1101] loss: 246.5015\n",
      "[iteration 1201] loss: 246.4846\n",
      "[iteration 1301] loss: 246.3598\n",
      "[iteration 1401] loss: 246.6014\n",
      "[iteration 1501] loss: 246.0800\n",
      "[iteration 1601] loss: 246.2388\n",
      "[iteration 1701] loss: 246.6423\n",
      "[iteration 1801] loss: 246.4153\n",
      "[iteration 1901] loss: 246.3402\n",
      "[iteration 2001] loss: 246.8541\n",
      "[iteration 2101] loss: 246.4607\n",
      "[iteration 2201] loss: 246.2949\n",
      "[iteration 2301] loss: 246.4708\n",
      "[iteration 2401] loss: 246.5092\n",
      "[iteration 2501] loss: 246.4298\n",
      "[iteration 2601] loss: 246.3709\n",
      "[iteration 2701] loss: 246.5076\n",
      "[iteration 2801] loss: 246.5754\n",
      "[iteration 2901] loss: 246.2756\n",
      "[iteration 3001] loss: 246.5435\n",
      "[iteration 3101] loss: 246.3789\n",
      "[iteration 3201] loss: 246.1658\n",
      "[iteration 3301] loss: 246.4507\n",
      "[iteration 3401] loss: 246.5388\n",
      "[iteration 3501] loss: 246.4616\n",
      "[iteration 3601] loss: 246.3984\n",
      "[iteration 3701] loss: 246.0864\n",
      "[iteration 3801] loss: 246.1596\n",
      "[iteration 3901] loss: 246.3255\n",
      "[iteration 4001] loss: 246.6438\n",
      "[iteration 4101] loss: 246.5553\n",
      "[iteration 4201] loss: 245.7487\n",
      "[iteration 4301] loss: 246.3561\n",
      "[iteration 4401] loss: 246.3512\n",
      "[iteration 4501] loss: 246.5158\n",
      "[iteration 4601] loss: 246.3434\n",
      "[iteration 4701] loss: 246.2676\n",
      "[iteration 4801] loss: 246.2180\n",
      "[iteration 4901] loss: 246.7703\n"
     ]
    }
   ],
   "source": [
    "guide = AutoDiagonalNormal(model)\n",
    "adam = pyro.optim.Adam({\"lr\": 0.03})\n",
    "svi = SVI(model, guide, adam, loss=Trace_ELBO())\n",
    "pyro.clear_param_store()\n",
    "for j in range(5000):\n",
    "    # calculate the loss and take a gradient step\n",
    "    loss = svi.step(data)\n",
    "    if j % 100 == 0:\n",
    "        print(\"[iteration %04d] loss: %.4f\" % (j + 1, loss / data.shape[-2]))"
   ]
  },
  {
   "cell_type": "markdown",
   "metadata": {},
   "source": [
    "Here are the results of our Meta Mock!"
   ]
  },
  {
   "cell_type": "code",
   "execution_count": 59,
   "metadata": {},
   "outputs": [
    {
     "name": "stdout",
     "output_type": "stream",
     "text": [
      "1. Anthony Edwards (12.2)\n",
      "2. LaMelo Ball (12.0)\n",
      "3. Deni Avdija (10.3)\n",
      "4. James Wiseman (10.3)\n",
      "5. Obi Toppin (9.9)\n",
      "6. Onyeka Okongwu (8.0)\n",
      "7. Killian Hayes (7.9)\n",
      "8. Tyrese Haliburton (7.6)\n",
      "9. Isaac Okoro (7.6)\n",
      "10. Devin Vassell (6.7)\n",
      "11. Patrick Williams (6.0)\n",
      "12. Aaron Nesmith (5.2)\n",
      "13. Saddiq Bey (4.7)\n",
      "14. Kira Lewis (4.6)\n",
      "15. Precious Achiuwa (4.5)\n",
      "16. RJ Hampton (4.1)\n",
      "17. Jalen Smith (4.0)\n",
      "18. Cole Anthony (3.9)\n",
      "19. Tyrese Maxey (3.7)\n",
      "20. Josh Green (3.0)\n",
      "21. Aleksej Pokusevski (2.6)\n",
      "22. Leandro Bolmaro (2.4)\n",
      "23. Isaiah Stewart (2.3)\n",
      "24. Jaden McDaniels (2.2)\n",
      "25. Theo Maledon (2.0)\n",
      "26. Jahmius Ramsey (1.7)\n",
      "27. Tyrell Terry (1.6)\n",
      "28. Desmond Bane (1.3)\n",
      "29. Nico Mannion (1.2)\n",
      "30. Zeke Nnaji (1.1)\n",
      "31. Malachi Flynn (1.0)\n",
      "32. Tre Jones (0.9)\n",
      "33. Devon Dotson (0.8)\n",
      "34. Paul Reed (0.5)\n",
      "35. Vernon Carey (0.5)\n",
      "36. Isaiah Joe (0.5)\n",
      "37. Elijah Hughes (0.5)\n",
      "38. Cassius Stanley (0.5)\n",
      "39. Daniel Oturu (0.4)\n",
      "40. Killian Tillie (0.4)\n",
      "41. Cassius Winston (0.4)\n",
      "42. Grant Riller (0.3)\n",
      "43. Udoka Azubuike (0.3)\n",
      "44. Tyler Bey (0.3)\n",
      "45. Reggie Perry (0.2)\n",
      "46. Xavier Tillman (0.2)\n",
      "47. Payton Pritchard (0.1)\n",
      "48. Jay Scrubb (0.1)\n",
      "49. Abdoulaye Ndoye (0.1)\n",
      "50. Immanuel Quickley (-0.0)\n",
      "51. Ty-Shon Alexander (-0.0)\n",
      "52. Ashton Hagans (-0.0)\n",
      "53. Jordan Nwora (-0.1)\n",
      "54. Robert Woodard (-0.1)\n",
      "55. Nick Richards (-0.1)\n",
      "56. Yam Madar (-0.1)\n",
      "57. Skylar Mays (-0.2)\n",
      "58. Nate Hinton (-0.2)\n",
      "59. Paul Ebouta (-0.2)\n",
      "60. Filip Petrusev (-0.3)\n",
      "61. Justinian Jessup (-0.3)\n",
      "62. Lamar Stevens (-0.3)\n",
      "63. Marko Simonovic (-0.3)\n",
      "64. Sam Merrill (-0.3)\n",
      "65. Josh Hall (-0.4)\n",
      "66. Karim Mane (-0.4)\n",
      "67. Kaleb Wesson (-0.4)\n",
      "68. Kristian Doolittle (-0.5)\n",
      "69. Tyrique Jones (-0.5)\n",
      "70. Borisa Simanic (-0.5)\n",
      "71. Markus Howard (-0.5)\n",
      "72. Kenyon Martin (-0.5)\n",
      "73. CJ Elleby (-0.6)\n",
      "74. Rokas Jokubaitis (-0.6)\n",
      "75. Lamine Diane (-0.6)\n",
      "76. Yoeli Childs (-0.6)\n",
      "77. Jalen Harris (-0.6)\n",
      "78. Mason Jones (-0.7)\n",
      "79. Paul Eboua (-0.7)\n",
      "80. Saben Lee (-0.7)\n",
      "81. Mamadi Diakite (-0.7)\n",
      "82. Omer Yurtseven (-0.8)\n",
      "83. Henri Drell (-0.8)\n",
      "84. Austin Wiley (-0.8)\n",
      "85. Naji Marshall (-0.8)\n",
      "86. Giorgos Kalaitzakis (-0.9)\n"
     ]
    }
   ],
   "source": [
    "meta_mock = sorted(enumerate(pyro.param('AutoDiagonalNormal.loc').data.numpy()[1:]),key=lambda x: -x[1])\n",
    "for rank, (idx, rating) in enumerate(meta_mock):\n",
    "    print(f'{rank+1}. {player_lut[idx+1]} ({rating:0.1f})')"
   ]
  },
  {
   "cell_type": "markdown",
   "metadata": {},
   "source": [
    "Ok, not bad, but that's not the coolest part. The coolest part is now we have probability distributions for each player so we can go and simulate thousands of mock drafts. Let's do it! Basically we're just going to sample the posterior distribution (from the Pyro guide function) and generate one sample mock draft order. We then do that 10,000(!) times and place them all in a Pandas dataframe."
   ]
  },
  {
   "cell_type": "code",
   "execution_count": 71,
   "metadata": {},
   "outputs": [
    {
     "data": {
      "text/html": [
       "<div>\n",
       "<style scoped>\n",
       "    .dataframe tbody tr th:only-of-type {\n",
       "        vertical-align: middle;\n",
       "    }\n",
       "\n",
       "    .dataframe tbody tr th {\n",
       "        vertical-align: top;\n",
       "    }\n",
       "\n",
       "    .dataframe thead th {\n",
       "        text-align: right;\n",
       "    }\n",
       "</style>\n",
       "<table border=\"1\" class=\"dataframe\">\n",
       "  <thead>\n",
       "    <tr style=\"text-align: right;\">\n",
       "      <th></th>\n",
       "      <th>rank</th>\n",
       "      <th>player</th>\n",
       "    </tr>\n",
       "  </thead>\n",
       "  <tbody>\n",
       "    <tr>\n",
       "      <th>0</th>\n",
       "      <td>1</td>\n",
       "      <td>Anthony Edwards</td>\n",
       "    </tr>\n",
       "    <tr>\n",
       "      <th>1</th>\n",
       "      <td>2</td>\n",
       "      <td>Deni Avdija</td>\n",
       "    </tr>\n",
       "    <tr>\n",
       "      <th>2</th>\n",
       "      <td>3</td>\n",
       "      <td>James Wiseman</td>\n",
       "    </tr>\n",
       "    <tr>\n",
       "      <th>3</th>\n",
       "      <td>4</td>\n",
       "      <td>LaMelo Ball</td>\n",
       "    </tr>\n",
       "    <tr>\n",
       "      <th>4</th>\n",
       "      <td>5</td>\n",
       "      <td>Killian Hayes</td>\n",
       "    </tr>\n",
       "  </tbody>\n",
       "</table>\n",
       "</div>"
      ],
      "text/plain": [
       "   rank           player\n",
       "0     1  Anthony Edwards\n",
       "1     2      Deni Avdija\n",
       "2     3    James Wiseman\n",
       "3     4      LaMelo Ball\n",
       "4     5    Killian Hayes"
      ]
     },
     "execution_count": 71,
     "metadata": {},
     "output_type": "execute_result"
    }
   ],
   "source": [
    "rank_hist = []\n",
    "for m in range(10_000):\n",
    "    theta = guide.forward()['theta']\n",
    "    pl = PlackettLuce(theta)\n",
    "    sample = pl.sample(1).numpy()[0]\n",
    "    for i, j in enumerate(sample.squeeze()):\n",
    "        if i<=59:\n",
    "            rank_hist.append((i+1,player_lut[j+1]))\n",
    "        else:\n",
    "            rank_hist.append((61,player_lut[j+1]))\n",
    "rank_df = pd.DataFrame.from_records(rank_hist,columns=['rank','player'])\n",
    "rank_df.head()"
   ]
  },
  {
   "cell_type": "markdown",
   "metadata": {},
   "source": [
    "So now we have distributions (histograms) of simulated draft position for each player. For example, let's look at where Anthony Edwards is predicted:"
   ]
  },
  {
   "cell_type": "code",
   "execution_count": 75,
   "metadata": {},
   "outputs": [
    {
     "data": {
      "text/plain": [
       "<seaborn.axisgrid.FacetGrid at 0x7fc13e38a470>"
      ]
     },
     "execution_count": 75,
     "metadata": {},
     "output_type": "execute_result"
    },
    {
     "data": {
      "image/png": "[encoded data removed]",
      "text/plain": [
       "<Figure size 483.375x360 with 1 Axes>"
      ]
     },
     "metadata": {},
     "output_type": "display_data"
    }
   ],
   "source": [
    "sns.set_style(\"ticks\", {\"xtick.minor.size\": 1, \"ytick.major.size\": 8})\n",
    "players = ['Anthony Edwards']\n",
    "sns.displot(data=rank_df[rank_df.player.isin(players)],x='rank',kind='hist',hue='player')"
   ]
  },
  {
   "cell_type": "markdown",
   "metadata": {},
   "source": [
    "An easier way to understand this distribution is to look at the cumulative probability. Remember when I said this model can be used in a similar way to survival analysis? This is what I'm talking about:"
   ]
  },
  {
   "cell_type": "code",
   "execution_count": 76,
   "metadata": {},
   "outputs": [
    {
     "data": {
      "text/plain": [
       "<seaborn.axisgrid.FacetGrid at 0x7fc13c746e48>"
      ]
     },
     "execution_count": 76,
     "metadata": {},
     "output_type": "execute_result"
    },
    {
     "data": {
      "image/png": "[encoded data removed]",
      "text/plain": [
       "<Figure size 483.375x360 with 1 Axes>"
      ]
     },
     "metadata": {},
     "output_type": "display_data"
    }
   ],
   "source": [
    "sns.set_style(\"ticks\", {\"xtick.minor.size\": 1, \"ytick.major.size\": 8})\n",
    "players = ['Anthony Edwards']\n",
    "sns.displot(data=rank_df[rank_df.player.isin(players)],x='rank',kind='ecdf',hue='player')"
   ]
  },
  {
   "cell_type": "markdown",
   "metadata": {},
   "source": [
    "From this we see Edwards has around a 45% chance of being taken first and around 80% to go top 2 and so on. Pretty neat! Now let's look at someone with a wider range of predictions, Saddiq Bey:"
   ]
  },
  {
   "cell_type": "code",
   "execution_count": 77,
   "metadata": {},
   "outputs": [
    {
     "data": {
      "text/plain": [
       "<seaborn.axisgrid.FacetGrid at 0x7fc134fa5b00>"
      ]
     },
     "execution_count": 77,
     "metadata": {},
     "output_type": "execute_result"
    },
    {
     "data": {
      "image/png": "[encoded data removed]",
      "text/plain": [
       "<Figure size 452.375x360 with 1 Axes>"
      ]
     },
     "metadata": {},
     "output_type": "display_data"
    }
   ],
   "source": [
    "sns.set_style(\"ticks\", {\"xtick.minor.size\": 1, \"ytick.major.size\": 8})\n",
    "players = ['Saddiq Bey']\n",
    "sns.displot(data=rank_df[rank_df.player.isin(players)],x='rank',kind='ecdf',hue='player')"
   ]
  },
  {
   "cell_type": "markdown",
   "metadata": {},
   "source": [
    "Ooh isn't that cool? A very wide range indeed. Let's take a look at a more fringey player, Nick Richards:"
   ]
  },
  {
   "cell_type": "code",
   "execution_count": 79,
   "metadata": {},
   "outputs": [
    {
     "data": {
      "text/plain": [
       "<seaborn.axisgrid.FacetGrid at 0x7fc134f898d0>"
      ]
     },
     "execution_count": 79,
     "metadata": {},
     "output_type": "execute_result"
    },
    {
     "data": {
      "image/png": "[encoded data removed]",
      "text/plain": [
       "<Figure size 464.125x360 with 1 Axes>"
      ]
     },
     "metadata": {},
     "output_type": "display_data"
    }
   ],
   "source": [
    "sns.set_style(\"ticks\", {\"xtick.minor.size\": 1, \"ytick.major.size\": 8})\n",
    "players = ['Nick Richards']\n",
    "sns.displot(data=rank_df[rank_df.player.isin(players)],x='rank',kind='ecdf',hue='player')"
   ]
  },
  {
   "cell_type": "markdown",
   "metadata": {},
   "source": [
    "Ok, so I should explain that in the simulation if a player is not drafted in the top 60, I just put him at 61, thus essentially making him an undrafted free agent (UDFA). These plots get kind of messy but before I'm done, here's one that has the top 10 guys in one chart."
   ]
  },
  {
   "cell_type": "code",
   "execution_count": 80,
   "metadata": {},
   "outputs": [
    {
     "data": {
      "text/plain": [
       "<seaborn.axisgrid.FacetGrid at 0x7fc134f17320>"
      ]
     },
     "execution_count": 80,
     "metadata": {},
     "output_type": "execute_result"
    },
    {
     "data": {
      "image/png": "[encoded data removed]",
      "text/plain": [
       "<Figure size 483.375x360 with 1 Axes>"
      ]
     },
     "metadata": {},
     "output_type": "display_data"
    }
   ],
   "source": [
    "sns.set_style(\"ticks\", {\"xtick.minor.size\": 1, \"ytick.major.size\": 8})\n",
    "players = ['Anthony Edwards', 'LaMelo Ball', 'Deni Avdija', 'James Wiseman', 'Obi Toppin', 'Onyeka Okongwu',\n",
    "          'Killian Hayes', 'Tyrese Haliburton', 'Isaac Okoro', 'Devin Vassell']\n",
    "sns.displot(data=rank_df[rank_df.player.isin(players)],x='rank',kind='ecdf',hue='player')"
   ]
  },
  {
   "cell_type": "markdown",
   "metadata": {},
   "source": [
    "Well, that's all I got for now. Be on the lookout (via my Twitter) for more things related to this as we get closer to the Draft (Nov. 18). If you have any suggestions (or corrections) let me know!"
   ]
  },
  {
   "cell_type": "markdown",
   "metadata": {},
   "source": [
    "## Please leave a github star!!!"
   ]
  },
  {
   "cell_type": "code",
   "execution_count": null,
   "metadata": {},
   "outputs": [],
   "source": []
  }
 ],
 "metadata": {
  "kernelspec": {
   "display_name": "pyro",
   "language": "python",
   "name": "pyro"
  },
  "language_info": {
   "codemirror_mode": {
    "name": "ipython",
    "version": 3
   },
   "file_extension": ".py",
   "mimetype": "text/x-python",
   "name": "python",
   "nbconvert_exporter": "python",
   "pygments_lexer": "ipython3",
   "version": "3.7.0"
  }
 },
 "nbformat": 4,
 "nbformat_minor": 4
}
